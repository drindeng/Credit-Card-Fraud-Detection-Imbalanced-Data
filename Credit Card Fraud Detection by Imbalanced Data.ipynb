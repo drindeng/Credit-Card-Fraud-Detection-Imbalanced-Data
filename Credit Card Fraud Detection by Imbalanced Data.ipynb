{
 "cells": [
  {
   "cell_type": "markdown",
   "id": "3a65c67f",
   "metadata": {},
   "source": [
    "# Credit Card Fraud Detection"
   ]
  },
  {
   "cell_type": "markdown",
   "id": "6ebfc153",
   "metadata": {},
   "source": [
    "DATA: https://www.kaggle.com/datasets/mlg-ulb/creditcardfraud"
   ]
  },
  {
   "cell_type": "markdown",
   "id": "ec057016",
   "metadata": {},
   "source": [
    "## Loading Data"
   ]
  },
  {
   "cell_type": "code",
   "execution_count": 1,
   "id": "17343497",
   "metadata": {},
   "outputs": [],
   "source": [
    "import numpy as np\n",
    "import pandas as pd\n",
    "import matplotlib.pyplot as plt\n",
    "import seaborn as sns\n",
    "\n",
    "import warnings\n",
    "warnings.filterwarnings(\"ignore\")"
   ]
  },
  {
   "cell_type": "markdown",
   "id": "56d05f8e",
   "metadata": {},
   "source": [
    "The dataset contains transactions made by credit cards in September 2013 by European cardholders.\n",
    "\n",
    "It contains only numerical input variables which are the result of a PCA transformation. Unfortunately, due to confidentiality issues, we cannot provide the original features and more background information about the data. \n",
    "\n",
    "Features V1, V2, … V28 are the principal components obtained with PCA, the only features which have not been transformed with PCA are 'Time' and 'Amount'. \n",
    "\n",
    "Feature 'Time' contains the seconds elapsed between each transaction and the first transaction in the dataset. \n",
    "\n",
    "The feature 'Amount' is the transaction Amount, this feature can be used for example-dependant cost-sensitive learning. \n",
    "\n",
    "Feature 'Class' is the response variable and it takes value 1 in case of fraud and 0 otherwise."
   ]
  },
  {
   "cell_type": "code",
   "execution_count": 2,
   "id": "2633b9af",
   "metadata": {},
   "outputs": [
    {
     "data": {
      "text/html": [
       "<div>\n",
       "<style scoped>\n",
       "    .dataframe tbody tr th:only-of-type {\n",
       "        vertical-align: middle;\n",
       "    }\n",
       "\n",
       "    .dataframe tbody tr th {\n",
       "        vertical-align: top;\n",
       "    }\n",
       "\n",
       "    .dataframe thead th {\n",
       "        text-align: right;\n",
       "    }\n",
       "</style>\n",
       "<table border=\"1\" class=\"dataframe\">\n",
       "  <thead>\n",
       "    <tr style=\"text-align: right;\">\n",
       "      <th></th>\n",
       "      <th>Time</th>\n",
       "      <th>V1</th>\n",
       "      <th>V2</th>\n",
       "      <th>V3</th>\n",
       "      <th>V4</th>\n",
       "      <th>V5</th>\n",
       "      <th>V6</th>\n",
       "      <th>V7</th>\n",
       "      <th>V8</th>\n",
       "      <th>V9</th>\n",
       "      <th>...</th>\n",
       "      <th>V21</th>\n",
       "      <th>V22</th>\n",
       "      <th>V23</th>\n",
       "      <th>V24</th>\n",
       "      <th>V25</th>\n",
       "      <th>V26</th>\n",
       "      <th>V27</th>\n",
       "      <th>V28</th>\n",
       "      <th>Amount</th>\n",
       "      <th>Class</th>\n",
       "    </tr>\n",
       "  </thead>\n",
       "  <tbody>\n",
       "    <tr>\n",
       "      <th>0</th>\n",
       "      <td>0.0</td>\n",
       "      <td>-1.359807</td>\n",
       "      <td>-0.072781</td>\n",
       "      <td>2.536347</td>\n",
       "      <td>1.378155</td>\n",
       "      <td>-0.338321</td>\n",
       "      <td>0.462388</td>\n",
       "      <td>0.239599</td>\n",
       "      <td>0.098698</td>\n",
       "      <td>0.363787</td>\n",
       "      <td>...</td>\n",
       "      <td>-0.018307</td>\n",
       "      <td>0.277838</td>\n",
       "      <td>-0.110474</td>\n",
       "      <td>0.066928</td>\n",
       "      <td>0.128539</td>\n",
       "      <td>-0.189115</td>\n",
       "      <td>0.133558</td>\n",
       "      <td>-0.021053</td>\n",
       "      <td>149.62</td>\n",
       "      <td>0</td>\n",
       "    </tr>\n",
       "    <tr>\n",
       "      <th>1</th>\n",
       "      <td>0.0</td>\n",
       "      <td>1.191857</td>\n",
       "      <td>0.266151</td>\n",
       "      <td>0.166480</td>\n",
       "      <td>0.448154</td>\n",
       "      <td>0.060018</td>\n",
       "      <td>-0.082361</td>\n",
       "      <td>-0.078803</td>\n",
       "      <td>0.085102</td>\n",
       "      <td>-0.255425</td>\n",
       "      <td>...</td>\n",
       "      <td>-0.225775</td>\n",
       "      <td>-0.638672</td>\n",
       "      <td>0.101288</td>\n",
       "      <td>-0.339846</td>\n",
       "      <td>0.167170</td>\n",
       "      <td>0.125895</td>\n",
       "      <td>-0.008983</td>\n",
       "      <td>0.014724</td>\n",
       "      <td>2.69</td>\n",
       "      <td>0</td>\n",
       "    </tr>\n",
       "    <tr>\n",
       "      <th>2</th>\n",
       "      <td>1.0</td>\n",
       "      <td>-1.358354</td>\n",
       "      <td>-1.340163</td>\n",
       "      <td>1.773209</td>\n",
       "      <td>0.379780</td>\n",
       "      <td>-0.503198</td>\n",
       "      <td>1.800499</td>\n",
       "      <td>0.791461</td>\n",
       "      <td>0.247676</td>\n",
       "      <td>-1.514654</td>\n",
       "      <td>...</td>\n",
       "      <td>0.247998</td>\n",
       "      <td>0.771679</td>\n",
       "      <td>0.909412</td>\n",
       "      <td>-0.689281</td>\n",
       "      <td>-0.327642</td>\n",
       "      <td>-0.139097</td>\n",
       "      <td>-0.055353</td>\n",
       "      <td>-0.059752</td>\n",
       "      <td>378.66</td>\n",
       "      <td>0</td>\n",
       "    </tr>\n",
       "    <tr>\n",
       "      <th>3</th>\n",
       "      <td>1.0</td>\n",
       "      <td>-0.966272</td>\n",
       "      <td>-0.185226</td>\n",
       "      <td>1.792993</td>\n",
       "      <td>-0.863291</td>\n",
       "      <td>-0.010309</td>\n",
       "      <td>1.247203</td>\n",
       "      <td>0.237609</td>\n",
       "      <td>0.377436</td>\n",
       "      <td>-1.387024</td>\n",
       "      <td>...</td>\n",
       "      <td>-0.108300</td>\n",
       "      <td>0.005274</td>\n",
       "      <td>-0.190321</td>\n",
       "      <td>-1.175575</td>\n",
       "      <td>0.647376</td>\n",
       "      <td>-0.221929</td>\n",
       "      <td>0.062723</td>\n",
       "      <td>0.061458</td>\n",
       "      <td>123.50</td>\n",
       "      <td>0</td>\n",
       "    </tr>\n",
       "    <tr>\n",
       "      <th>4</th>\n",
       "      <td>2.0</td>\n",
       "      <td>-1.158233</td>\n",
       "      <td>0.877737</td>\n",
       "      <td>1.548718</td>\n",
       "      <td>0.403034</td>\n",
       "      <td>-0.407193</td>\n",
       "      <td>0.095921</td>\n",
       "      <td>0.592941</td>\n",
       "      <td>-0.270533</td>\n",
       "      <td>0.817739</td>\n",
       "      <td>...</td>\n",
       "      <td>-0.009431</td>\n",
       "      <td>0.798278</td>\n",
       "      <td>-0.137458</td>\n",
       "      <td>0.141267</td>\n",
       "      <td>-0.206010</td>\n",
       "      <td>0.502292</td>\n",
       "      <td>0.219422</td>\n",
       "      <td>0.215153</td>\n",
       "      <td>69.99</td>\n",
       "      <td>0</td>\n",
       "    </tr>\n",
       "    <tr>\n",
       "      <th>5</th>\n",
       "      <td>2.0</td>\n",
       "      <td>-0.425966</td>\n",
       "      <td>0.960523</td>\n",
       "      <td>1.141109</td>\n",
       "      <td>-0.168252</td>\n",
       "      <td>0.420987</td>\n",
       "      <td>-0.029728</td>\n",
       "      <td>0.476201</td>\n",
       "      <td>0.260314</td>\n",
       "      <td>-0.568671</td>\n",
       "      <td>...</td>\n",
       "      <td>-0.208254</td>\n",
       "      <td>-0.559825</td>\n",
       "      <td>-0.026398</td>\n",
       "      <td>-0.371427</td>\n",
       "      <td>-0.232794</td>\n",
       "      <td>0.105915</td>\n",
       "      <td>0.253844</td>\n",
       "      <td>0.081080</td>\n",
       "      <td>3.67</td>\n",
       "      <td>0</td>\n",
       "    </tr>\n",
       "    <tr>\n",
       "      <th>6</th>\n",
       "      <td>4.0</td>\n",
       "      <td>1.229658</td>\n",
       "      <td>0.141004</td>\n",
       "      <td>0.045371</td>\n",
       "      <td>1.202613</td>\n",
       "      <td>0.191881</td>\n",
       "      <td>0.272708</td>\n",
       "      <td>-0.005159</td>\n",
       "      <td>0.081213</td>\n",
       "      <td>0.464960</td>\n",
       "      <td>...</td>\n",
       "      <td>-0.167716</td>\n",
       "      <td>-0.270710</td>\n",
       "      <td>-0.154104</td>\n",
       "      <td>-0.780055</td>\n",
       "      <td>0.750137</td>\n",
       "      <td>-0.257237</td>\n",
       "      <td>0.034507</td>\n",
       "      <td>0.005168</td>\n",
       "      <td>4.99</td>\n",
       "      <td>0</td>\n",
       "    </tr>\n",
       "    <tr>\n",
       "      <th>7</th>\n",
       "      <td>7.0</td>\n",
       "      <td>-0.644269</td>\n",
       "      <td>1.417964</td>\n",
       "      <td>1.074380</td>\n",
       "      <td>-0.492199</td>\n",
       "      <td>0.948934</td>\n",
       "      <td>0.428118</td>\n",
       "      <td>1.120631</td>\n",
       "      <td>-3.807864</td>\n",
       "      <td>0.615375</td>\n",
       "      <td>...</td>\n",
       "      <td>1.943465</td>\n",
       "      <td>-1.015455</td>\n",
       "      <td>0.057504</td>\n",
       "      <td>-0.649709</td>\n",
       "      <td>-0.415267</td>\n",
       "      <td>-0.051634</td>\n",
       "      <td>-1.206921</td>\n",
       "      <td>-1.085339</td>\n",
       "      <td>40.80</td>\n",
       "      <td>0</td>\n",
       "    </tr>\n",
       "    <tr>\n",
       "      <th>8</th>\n",
       "      <td>7.0</td>\n",
       "      <td>-0.894286</td>\n",
       "      <td>0.286157</td>\n",
       "      <td>-0.113192</td>\n",
       "      <td>-0.271526</td>\n",
       "      <td>2.669599</td>\n",
       "      <td>3.721818</td>\n",
       "      <td>0.370145</td>\n",
       "      <td>0.851084</td>\n",
       "      <td>-0.392048</td>\n",
       "      <td>...</td>\n",
       "      <td>-0.073425</td>\n",
       "      <td>-0.268092</td>\n",
       "      <td>-0.204233</td>\n",
       "      <td>1.011592</td>\n",
       "      <td>0.373205</td>\n",
       "      <td>-0.384157</td>\n",
       "      <td>0.011747</td>\n",
       "      <td>0.142404</td>\n",
       "      <td>93.20</td>\n",
       "      <td>0</td>\n",
       "    </tr>\n",
       "    <tr>\n",
       "      <th>9</th>\n",
       "      <td>9.0</td>\n",
       "      <td>-0.338262</td>\n",
       "      <td>1.119593</td>\n",
       "      <td>1.044367</td>\n",
       "      <td>-0.222187</td>\n",
       "      <td>0.499361</td>\n",
       "      <td>-0.246761</td>\n",
       "      <td>0.651583</td>\n",
       "      <td>0.069539</td>\n",
       "      <td>-0.736727</td>\n",
       "      <td>...</td>\n",
       "      <td>-0.246914</td>\n",
       "      <td>-0.633753</td>\n",
       "      <td>-0.120794</td>\n",
       "      <td>-0.385050</td>\n",
       "      <td>-0.069733</td>\n",
       "      <td>0.094199</td>\n",
       "      <td>0.246219</td>\n",
       "      <td>0.083076</td>\n",
       "      <td>3.68</td>\n",
       "      <td>0</td>\n",
       "    </tr>\n",
       "  </tbody>\n",
       "</table>\n",
       "<p>10 rows × 31 columns</p>\n",
       "</div>"
      ],
      "text/plain": [
       "   Time        V1        V2        V3        V4        V5        V6        V7  \\\n",
       "0   0.0 -1.359807 -0.072781  2.536347  1.378155 -0.338321  0.462388  0.239599   \n",
       "1   0.0  1.191857  0.266151  0.166480  0.448154  0.060018 -0.082361 -0.078803   \n",
       "2   1.0 -1.358354 -1.340163  1.773209  0.379780 -0.503198  1.800499  0.791461   \n",
       "3   1.0 -0.966272 -0.185226  1.792993 -0.863291 -0.010309  1.247203  0.237609   \n",
       "4   2.0 -1.158233  0.877737  1.548718  0.403034 -0.407193  0.095921  0.592941   \n",
       "5   2.0 -0.425966  0.960523  1.141109 -0.168252  0.420987 -0.029728  0.476201   \n",
       "6   4.0  1.229658  0.141004  0.045371  1.202613  0.191881  0.272708 -0.005159   \n",
       "7   7.0 -0.644269  1.417964  1.074380 -0.492199  0.948934  0.428118  1.120631   \n",
       "8   7.0 -0.894286  0.286157 -0.113192 -0.271526  2.669599  3.721818  0.370145   \n",
       "9   9.0 -0.338262  1.119593  1.044367 -0.222187  0.499361 -0.246761  0.651583   \n",
       "\n",
       "         V8        V9  ...       V21       V22       V23       V24       V25  \\\n",
       "0  0.098698  0.363787  ... -0.018307  0.277838 -0.110474  0.066928  0.128539   \n",
       "1  0.085102 -0.255425  ... -0.225775 -0.638672  0.101288 -0.339846  0.167170   \n",
       "2  0.247676 -1.514654  ...  0.247998  0.771679  0.909412 -0.689281 -0.327642   \n",
       "3  0.377436 -1.387024  ... -0.108300  0.005274 -0.190321 -1.175575  0.647376   \n",
       "4 -0.270533  0.817739  ... -0.009431  0.798278 -0.137458  0.141267 -0.206010   \n",
       "5  0.260314 -0.568671  ... -0.208254 -0.559825 -0.026398 -0.371427 -0.232794   \n",
       "6  0.081213  0.464960  ... -0.167716 -0.270710 -0.154104 -0.780055  0.750137   \n",
       "7 -3.807864  0.615375  ...  1.943465 -1.015455  0.057504 -0.649709 -0.415267   \n",
       "8  0.851084 -0.392048  ... -0.073425 -0.268092 -0.204233  1.011592  0.373205   \n",
       "9  0.069539 -0.736727  ... -0.246914 -0.633753 -0.120794 -0.385050 -0.069733   \n",
       "\n",
       "        V26       V27       V28  Amount  Class  \n",
       "0 -0.189115  0.133558 -0.021053  149.62      0  \n",
       "1  0.125895 -0.008983  0.014724    2.69      0  \n",
       "2 -0.139097 -0.055353 -0.059752  378.66      0  \n",
       "3 -0.221929  0.062723  0.061458  123.50      0  \n",
       "4  0.502292  0.219422  0.215153   69.99      0  \n",
       "5  0.105915  0.253844  0.081080    3.67      0  \n",
       "6 -0.257237  0.034507  0.005168    4.99      0  \n",
       "7 -0.051634 -1.206921 -1.085339   40.80      0  \n",
       "8 -0.384157  0.011747  0.142404   93.20      0  \n",
       "9  0.094199  0.246219  0.083076    3.68      0  \n",
       "\n",
       "[10 rows x 31 columns]"
      ]
     },
     "execution_count": 2,
     "metadata": {},
     "output_type": "execute_result"
    }
   ],
   "source": [
    "df=pd.read_csv('creditcard.csv')\n",
    "df.head(10)"
   ]
  },
  {
   "cell_type": "code",
   "execution_count": null,
   "id": "6e2bf517",
   "metadata": {},
   "outputs": [],
   "source": []
  },
  {
   "cell_type": "markdown",
   "id": "5fc188cf",
   "metadata": {},
   "source": [
    "## Understanding the Dataset"
   ]
  },
  {
   "cell_type": "code",
   "execution_count": 3,
   "id": "b83f8015",
   "metadata": {},
   "outputs": [
    {
     "name": "stdout",
     "output_type": "stream",
     "text": [
      "<class 'pandas.core.frame.DataFrame'>\n",
      "RangeIndex: 284807 entries, 0 to 284806\n",
      "Data columns (total 31 columns):\n",
      " #   Column  Non-Null Count   Dtype  \n",
      "---  ------  --------------   -----  \n",
      " 0   Time    284807 non-null  float64\n",
      " 1   V1      284807 non-null  float64\n",
      " 2   V2      284807 non-null  float64\n",
      " 3   V3      284807 non-null  float64\n",
      " 4   V4      284807 non-null  float64\n",
      " 5   V5      284807 non-null  float64\n",
      " 6   V6      284807 non-null  float64\n",
      " 7   V7      284807 non-null  float64\n",
      " 8   V8      284807 non-null  float64\n",
      " 9   V9      284807 non-null  float64\n",
      " 10  V10     284807 non-null  float64\n",
      " 11  V11     284807 non-null  float64\n",
      " 12  V12     284807 non-null  float64\n",
      " 13  V13     284807 non-null  float64\n",
      " 14  V14     284807 non-null  float64\n",
      " 15  V15     284807 non-null  float64\n",
      " 16  V16     284807 non-null  float64\n",
      " 17  V17     284807 non-null  float64\n",
      " 18  V18     284807 non-null  float64\n",
      " 19  V19     284807 non-null  float64\n",
      " 20  V20     284807 non-null  float64\n",
      " 21  V21     284807 non-null  float64\n",
      " 22  V22     284807 non-null  float64\n",
      " 23  V23     284807 non-null  float64\n",
      " 24  V24     284807 non-null  float64\n",
      " 25  V25     284807 non-null  float64\n",
      " 26  V26     284807 non-null  float64\n",
      " 27  V27     284807 non-null  float64\n",
      " 28  V28     284807 non-null  float64\n",
      " 29  Amount  284807 non-null  float64\n",
      " 30  Class   284807 non-null  int64  \n",
      "dtypes: float64(30), int64(1)\n",
      "memory usage: 67.4 MB\n"
     ]
    }
   ],
   "source": [
    "df.info()"
   ]
  },
  {
   "cell_type": "code",
   "execution_count": 4,
   "id": "fe9c669a",
   "metadata": {},
   "outputs": [
    {
     "data": {
      "text/plain": [
       "(284807, 31)"
      ]
     },
     "execution_count": 4,
     "metadata": {},
     "output_type": "execute_result"
    }
   ],
   "source": [
    "df.shape"
   ]
  },
  {
   "cell_type": "markdown",
   "id": "905a3a1c",
   "metadata": {},
   "source": [
    "Total number of transactions= 284807"
   ]
  },
  {
   "cell_type": "markdown",
   "id": "35562157",
   "metadata": {},
   "source": [
    "Checking null data..."
   ]
  },
  {
   "cell_type": "code",
   "execution_count": 5,
   "id": "552ab343",
   "metadata": {},
   "outputs": [
    {
     "data": {
      "text/plain": [
       "Time      0\n",
       "V1        0\n",
       "V2        0\n",
       "V3        0\n",
       "V4        0\n",
       "V5        0\n",
       "V6        0\n",
       "V7        0\n",
       "V8        0\n",
       "V9        0\n",
       "V10       0\n",
       "V11       0\n",
       "V12       0\n",
       "V13       0\n",
       "V14       0\n",
       "V15       0\n",
       "V16       0\n",
       "V17       0\n",
       "V18       0\n",
       "V19       0\n",
       "V20       0\n",
       "V21       0\n",
       "V22       0\n",
       "V23       0\n",
       "V24       0\n",
       "V25       0\n",
       "V26       0\n",
       "V27       0\n",
       "V28       0\n",
       "Amount    0\n",
       "Class     0\n",
       "dtype: int64"
      ]
     },
     "execution_count": 5,
     "metadata": {},
     "output_type": "execute_result"
    }
   ],
   "source": [
    "df.isnull().sum()"
   ]
  },
  {
   "cell_type": "markdown",
   "id": "c0a9acde",
   "metadata": {},
   "source": [
    "There are no null values"
   ]
  },
  {
   "cell_type": "code",
   "execution_count": null,
   "id": "2e1036d8",
   "metadata": {},
   "outputs": [],
   "source": []
  },
  {
   "cell_type": "markdown",
   "id": "b2e90d7a",
   "metadata": {},
   "source": [
    "Let's drop \"time\" column, unnecessary for our analysis:"
   ]
  },
  {
   "cell_type": "code",
   "execution_count": 6,
   "id": "60480bb0",
   "metadata": {},
   "outputs": [],
   "source": [
    "df1= df.drop(['Time'], axis=1)"
   ]
  },
  {
   "cell_type": "code",
   "execution_count": null,
   "id": "44b4e03c",
   "metadata": {},
   "outputs": [],
   "source": []
  },
  {
   "cell_type": "markdown",
   "id": "d150d667",
   "metadata": {},
   "source": [
    "Checking duplicate rows..."
   ]
  },
  {
   "cell_type": "code",
   "execution_count": 7,
   "id": "308295cd",
   "metadata": {},
   "outputs": [
    {
     "data": {
      "text/html": [
       "<div>\n",
       "<style scoped>\n",
       "    .dataframe tbody tr th:only-of-type {\n",
       "        vertical-align: middle;\n",
       "    }\n",
       "\n",
       "    .dataframe tbody tr th {\n",
       "        vertical-align: top;\n",
       "    }\n",
       "\n",
       "    .dataframe thead th {\n",
       "        text-align: right;\n",
       "    }\n",
       "</style>\n",
       "<table border=\"1\" class=\"dataframe\">\n",
       "  <thead>\n",
       "    <tr style=\"text-align: right;\">\n",
       "      <th></th>\n",
       "      <th>V1</th>\n",
       "      <th>V2</th>\n",
       "      <th>V3</th>\n",
       "      <th>V4</th>\n",
       "      <th>V5</th>\n",
       "      <th>V6</th>\n",
       "      <th>V7</th>\n",
       "      <th>V8</th>\n",
       "      <th>V9</th>\n",
       "      <th>V10</th>\n",
       "      <th>...</th>\n",
       "      <th>V21</th>\n",
       "      <th>V22</th>\n",
       "      <th>V23</th>\n",
       "      <th>V24</th>\n",
       "      <th>V25</th>\n",
       "      <th>V26</th>\n",
       "      <th>V27</th>\n",
       "      <th>V28</th>\n",
       "      <th>Amount</th>\n",
       "      <th>Class</th>\n",
       "    </tr>\n",
       "  </thead>\n",
       "  <tbody>\n",
       "    <tr>\n",
       "      <th>33</th>\n",
       "      <td>-0.529912</td>\n",
       "      <td>0.873892</td>\n",
       "      <td>1.347247</td>\n",
       "      <td>0.145457</td>\n",
       "      <td>0.414209</td>\n",
       "      <td>0.100223</td>\n",
       "      <td>0.711206</td>\n",
       "      <td>0.176066</td>\n",
       "      <td>-0.286717</td>\n",
       "      <td>-0.484688</td>\n",
       "      <td>...</td>\n",
       "      <td>0.046949</td>\n",
       "      <td>0.208105</td>\n",
       "      <td>-0.185548</td>\n",
       "      <td>0.001031</td>\n",
       "      <td>0.098816</td>\n",
       "      <td>-0.552904</td>\n",
       "      <td>-0.073288</td>\n",
       "      <td>0.023307</td>\n",
       "      <td>6.14</td>\n",
       "      <td>0</td>\n",
       "    </tr>\n",
       "    <tr>\n",
       "      <th>35</th>\n",
       "      <td>-0.535388</td>\n",
       "      <td>0.865268</td>\n",
       "      <td>1.351076</td>\n",
       "      <td>0.147575</td>\n",
       "      <td>0.433680</td>\n",
       "      <td>0.086983</td>\n",
       "      <td>0.693039</td>\n",
       "      <td>0.179742</td>\n",
       "      <td>-0.285642</td>\n",
       "      <td>-0.482474</td>\n",
       "      <td>...</td>\n",
       "      <td>0.049526</td>\n",
       "      <td>0.206537</td>\n",
       "      <td>-0.187108</td>\n",
       "      <td>0.000753</td>\n",
       "      <td>0.098117</td>\n",
       "      <td>-0.553471</td>\n",
       "      <td>-0.078306</td>\n",
       "      <td>0.025427</td>\n",
       "      <td>1.77</td>\n",
       "      <td>0</td>\n",
       "    </tr>\n",
       "    <tr>\n",
       "      <th>113</th>\n",
       "      <td>1.038370</td>\n",
       "      <td>0.127486</td>\n",
       "      <td>0.184456</td>\n",
       "      <td>1.109950</td>\n",
       "      <td>0.441699</td>\n",
       "      <td>0.945283</td>\n",
       "      <td>-0.036715</td>\n",
       "      <td>0.350995</td>\n",
       "      <td>0.118950</td>\n",
       "      <td>-0.243289</td>\n",
       "      <td>...</td>\n",
       "      <td>0.102520</td>\n",
       "      <td>0.605089</td>\n",
       "      <td>0.023092</td>\n",
       "      <td>-0.626463</td>\n",
       "      <td>0.479120</td>\n",
       "      <td>-0.166937</td>\n",
       "      <td>0.081247</td>\n",
       "      <td>0.001192</td>\n",
       "      <td>1.18</td>\n",
       "      <td>0</td>\n",
       "    </tr>\n",
       "    <tr>\n",
       "      <th>114</th>\n",
       "      <td>1.038370</td>\n",
       "      <td>0.127486</td>\n",
       "      <td>0.184456</td>\n",
       "      <td>1.109950</td>\n",
       "      <td>0.441699</td>\n",
       "      <td>0.945283</td>\n",
       "      <td>-0.036715</td>\n",
       "      <td>0.350995</td>\n",
       "      <td>0.118950</td>\n",
       "      <td>-0.243289</td>\n",
       "      <td>...</td>\n",
       "      <td>0.102520</td>\n",
       "      <td>0.605089</td>\n",
       "      <td>0.023092</td>\n",
       "      <td>-0.626463</td>\n",
       "      <td>0.479120</td>\n",
       "      <td>-0.166937</td>\n",
       "      <td>0.081247</td>\n",
       "      <td>0.001192</td>\n",
       "      <td>1.18</td>\n",
       "      <td>0</td>\n",
       "    </tr>\n",
       "    <tr>\n",
       "      <th>115</th>\n",
       "      <td>1.038370</td>\n",
       "      <td>0.127486</td>\n",
       "      <td>0.184456</td>\n",
       "      <td>1.109950</td>\n",
       "      <td>0.441699</td>\n",
       "      <td>0.945283</td>\n",
       "      <td>-0.036715</td>\n",
       "      <td>0.350995</td>\n",
       "      <td>0.118950</td>\n",
       "      <td>-0.243289</td>\n",
       "      <td>...</td>\n",
       "      <td>0.102520</td>\n",
       "      <td>0.605089</td>\n",
       "      <td>0.023092</td>\n",
       "      <td>-0.626463</td>\n",
       "      <td>0.479120</td>\n",
       "      <td>-0.166937</td>\n",
       "      <td>0.081247</td>\n",
       "      <td>0.001192</td>\n",
       "      <td>1.18</td>\n",
       "      <td>0</td>\n",
       "    </tr>\n",
       "    <tr>\n",
       "      <th>...</th>\n",
       "      <td>...</td>\n",
       "      <td>...</td>\n",
       "      <td>...</td>\n",
       "      <td>...</td>\n",
       "      <td>...</td>\n",
       "      <td>...</td>\n",
       "      <td>...</td>\n",
       "      <td>...</td>\n",
       "      <td>...</td>\n",
       "      <td>...</td>\n",
       "      <td>...</td>\n",
       "      <td>...</td>\n",
       "      <td>...</td>\n",
       "      <td>...</td>\n",
       "      <td>...</td>\n",
       "      <td>...</td>\n",
       "      <td>...</td>\n",
       "      <td>...</td>\n",
       "      <td>...</td>\n",
       "      <td>...</td>\n",
       "      <td>...</td>\n",
       "    </tr>\n",
       "    <tr>\n",
       "      <th>284708</th>\n",
       "      <td>2.018105</td>\n",
       "      <td>0.073226</td>\n",
       "      <td>-1.615154</td>\n",
       "      <td>0.351058</td>\n",
       "      <td>0.333905</td>\n",
       "      <td>-0.676284</td>\n",
       "      <td>0.050474</td>\n",
       "      <td>-0.071028</td>\n",
       "      <td>0.302728</td>\n",
       "      <td>-0.193920</td>\n",
       "      <td>...</td>\n",
       "      <td>-0.306646</td>\n",
       "      <td>-0.841768</td>\n",
       "      <td>0.356773</td>\n",
       "      <td>0.655112</td>\n",
       "      <td>-0.331463</td>\n",
       "      <td>0.144352</td>\n",
       "      <td>-0.069820</td>\n",
       "      <td>-0.039845</td>\n",
       "      <td>1.98</td>\n",
       "      <td>0</td>\n",
       "    </tr>\n",
       "    <tr>\n",
       "      <th>284751</th>\n",
       "      <td>2.050734</td>\n",
       "      <td>-0.364010</td>\n",
       "      <td>-2.542843</td>\n",
       "      <td>-0.729357</td>\n",
       "      <td>2.388455</td>\n",
       "      <td>3.318015</td>\n",
       "      <td>-0.479138</td>\n",
       "      <td>0.791559</td>\n",
       "      <td>0.403374</td>\n",
       "      <td>0.093232</td>\n",
       "      <td>...</td>\n",
       "      <td>-0.293363</td>\n",
       "      <td>-0.834802</td>\n",
       "      <td>0.381740</td>\n",
       "      <td>0.698179</td>\n",
       "      <td>-0.264798</td>\n",
       "      <td>0.219275</td>\n",
       "      <td>-0.052131</td>\n",
       "      <td>-0.066940</td>\n",
       "      <td>0.89</td>\n",
       "      <td>0</td>\n",
       "    </tr>\n",
       "    <tr>\n",
       "      <th>284775</th>\n",
       "      <td>1.955547</td>\n",
       "      <td>-0.724606</td>\n",
       "      <td>-1.706511</td>\n",
       "      <td>-0.611145</td>\n",
       "      <td>1.710907</td>\n",
       "      <td>3.914215</td>\n",
       "      <td>-1.248690</td>\n",
       "      <td>1.054133</td>\n",
       "      <td>1.314064</td>\n",
       "      <td>-0.150553</td>\n",
       "      <td>...</td>\n",
       "      <td>0.193605</td>\n",
       "      <td>0.690196</td>\n",
       "      <td>0.155951</td>\n",
       "      <td>0.726775</td>\n",
       "      <td>-0.061219</td>\n",
       "      <td>-0.192666</td>\n",
       "      <td>0.060347</td>\n",
       "      <td>-0.042323</td>\n",
       "      <td>12.99</td>\n",
       "      <td>0</td>\n",
       "    </tr>\n",
       "    <tr>\n",
       "      <th>284785</th>\n",
       "      <td>0.032887</td>\n",
       "      <td>0.545338</td>\n",
       "      <td>-1.185844</td>\n",
       "      <td>-1.729828</td>\n",
       "      <td>2.932315</td>\n",
       "      <td>3.401529</td>\n",
       "      <td>0.337434</td>\n",
       "      <td>0.925377</td>\n",
       "      <td>-0.165663</td>\n",
       "      <td>-0.386953</td>\n",
       "      <td>...</td>\n",
       "      <td>-0.266113</td>\n",
       "      <td>-0.716336</td>\n",
       "      <td>0.108519</td>\n",
       "      <td>0.688519</td>\n",
       "      <td>-0.460220</td>\n",
       "      <td>0.161939</td>\n",
       "      <td>0.265368</td>\n",
       "      <td>0.090245</td>\n",
       "      <td>1.79</td>\n",
       "      <td>0</td>\n",
       "    </tr>\n",
       "    <tr>\n",
       "      <th>284793</th>\n",
       "      <td>1.971002</td>\n",
       "      <td>-0.699067</td>\n",
       "      <td>-1.697541</td>\n",
       "      <td>-0.617643</td>\n",
       "      <td>1.718797</td>\n",
       "      <td>3.911336</td>\n",
       "      <td>-1.259306</td>\n",
       "      <td>1.056209</td>\n",
       "      <td>1.315006</td>\n",
       "      <td>-0.146827</td>\n",
       "      <td>...</td>\n",
       "      <td>0.188758</td>\n",
       "      <td>0.694418</td>\n",
       "      <td>0.163002</td>\n",
       "      <td>0.726365</td>\n",
       "      <td>-0.058282</td>\n",
       "      <td>-0.191813</td>\n",
       "      <td>0.061858</td>\n",
       "      <td>-0.043716</td>\n",
       "      <td>4.99</td>\n",
       "      <td>0</td>\n",
       "    </tr>\n",
       "  </tbody>\n",
       "</table>\n",
       "<p>9144 rows × 30 columns</p>\n",
       "</div>"
      ],
      "text/plain": [
       "              V1        V2        V3        V4        V5        V6        V7  \\\n",
       "33     -0.529912  0.873892  1.347247  0.145457  0.414209  0.100223  0.711206   \n",
       "35     -0.535388  0.865268  1.351076  0.147575  0.433680  0.086983  0.693039   \n",
       "113     1.038370  0.127486  0.184456  1.109950  0.441699  0.945283 -0.036715   \n",
       "114     1.038370  0.127486  0.184456  1.109950  0.441699  0.945283 -0.036715   \n",
       "115     1.038370  0.127486  0.184456  1.109950  0.441699  0.945283 -0.036715   \n",
       "...          ...       ...       ...       ...       ...       ...       ...   \n",
       "284708  2.018105  0.073226 -1.615154  0.351058  0.333905 -0.676284  0.050474   \n",
       "284751  2.050734 -0.364010 -2.542843 -0.729357  2.388455  3.318015 -0.479138   \n",
       "284775  1.955547 -0.724606 -1.706511 -0.611145  1.710907  3.914215 -1.248690   \n",
       "284785  0.032887  0.545338 -1.185844 -1.729828  2.932315  3.401529  0.337434   \n",
       "284793  1.971002 -0.699067 -1.697541 -0.617643  1.718797  3.911336 -1.259306   \n",
       "\n",
       "              V8        V9       V10  ...       V21       V22       V23  \\\n",
       "33      0.176066 -0.286717 -0.484688  ...  0.046949  0.208105 -0.185548   \n",
       "35      0.179742 -0.285642 -0.482474  ...  0.049526  0.206537 -0.187108   \n",
       "113     0.350995  0.118950 -0.243289  ...  0.102520  0.605089  0.023092   \n",
       "114     0.350995  0.118950 -0.243289  ...  0.102520  0.605089  0.023092   \n",
       "115     0.350995  0.118950 -0.243289  ...  0.102520  0.605089  0.023092   \n",
       "...          ...       ...       ...  ...       ...       ...       ...   \n",
       "284708 -0.071028  0.302728 -0.193920  ... -0.306646 -0.841768  0.356773   \n",
       "284751  0.791559  0.403374  0.093232  ... -0.293363 -0.834802  0.381740   \n",
       "284775  1.054133  1.314064 -0.150553  ...  0.193605  0.690196  0.155951   \n",
       "284785  0.925377 -0.165663 -0.386953  ... -0.266113 -0.716336  0.108519   \n",
       "284793  1.056209  1.315006 -0.146827  ...  0.188758  0.694418  0.163002   \n",
       "\n",
       "             V24       V25       V26       V27       V28  Amount  Class  \n",
       "33      0.001031  0.098816 -0.552904 -0.073288  0.023307    6.14      0  \n",
       "35      0.000753  0.098117 -0.553471 -0.078306  0.025427    1.77      0  \n",
       "113    -0.626463  0.479120 -0.166937  0.081247  0.001192    1.18      0  \n",
       "114    -0.626463  0.479120 -0.166937  0.081247  0.001192    1.18      0  \n",
       "115    -0.626463  0.479120 -0.166937  0.081247  0.001192    1.18      0  \n",
       "...          ...       ...       ...       ...       ...     ...    ...  \n",
       "284708  0.655112 -0.331463  0.144352 -0.069820 -0.039845    1.98      0  \n",
       "284751  0.698179 -0.264798  0.219275 -0.052131 -0.066940    0.89      0  \n",
       "284775  0.726775 -0.061219 -0.192666  0.060347 -0.042323   12.99      0  \n",
       "284785  0.688519 -0.460220  0.161939  0.265368  0.090245    1.79      0  \n",
       "284793  0.726365 -0.058282 -0.191813  0.061858 -0.043716    4.99      0  \n",
       "\n",
       "[9144 rows x 30 columns]"
      ]
     },
     "execution_count": 7,
     "metadata": {},
     "output_type": "execute_result"
    }
   ],
   "source": [
    "df1[df1.duplicated()]"
   ]
  },
  {
   "cell_type": "code",
   "execution_count": 8,
   "id": "8435b3a8",
   "metadata": {},
   "outputs": [
    {
     "data": {
      "text/plain": [
       "9144"
      ]
     },
     "execution_count": 8,
     "metadata": {},
     "output_type": "execute_result"
    }
   ],
   "source": [
    "len(df1[df1.duplicated()])"
   ]
  },
  {
   "cell_type": "markdown",
   "id": "dc58c635",
   "metadata": {},
   "source": [
    "There are 9144 duplicate rows, let's drop them:"
   ]
  },
  {
   "cell_type": "code",
   "execution_count": 9,
   "id": "6536628e",
   "metadata": {},
   "outputs": [],
   "source": [
    "df1.drop(df1[df1.duplicated()].index, axis=0, inplace=True)"
   ]
  },
  {
   "cell_type": "code",
   "execution_count": 10,
   "id": "6210c06d",
   "metadata": {},
   "outputs": [
    {
     "data": {
      "text/plain": [
       "(275663, 30)"
      ]
     },
     "execution_count": 10,
     "metadata": {},
     "output_type": "execute_result"
    }
   ],
   "source": [
    "df1.shape"
   ]
  },
  {
   "cell_type": "code",
   "execution_count": 11,
   "id": "19a3a454",
   "metadata": {
    "scrolled": true
   },
   "outputs": [
    {
     "data": {
      "text/html": [
       "<div>\n",
       "<style scoped>\n",
       "    .dataframe tbody tr th:only-of-type {\n",
       "        vertical-align: middle;\n",
       "    }\n",
       "\n",
       "    .dataframe tbody tr th {\n",
       "        vertical-align: top;\n",
       "    }\n",
       "\n",
       "    .dataframe thead th {\n",
       "        text-align: right;\n",
       "    }\n",
       "</style>\n",
       "<table border=\"1\" class=\"dataframe\">\n",
       "  <thead>\n",
       "    <tr style=\"text-align: right;\">\n",
       "      <th></th>\n",
       "      <th>V1</th>\n",
       "      <th>V2</th>\n",
       "      <th>V3</th>\n",
       "      <th>V4</th>\n",
       "      <th>V5</th>\n",
       "      <th>V6</th>\n",
       "      <th>V7</th>\n",
       "      <th>V8</th>\n",
       "      <th>V9</th>\n",
       "      <th>V10</th>\n",
       "      <th>...</th>\n",
       "      <th>V21</th>\n",
       "      <th>V22</th>\n",
       "      <th>V23</th>\n",
       "      <th>V24</th>\n",
       "      <th>V25</th>\n",
       "      <th>V26</th>\n",
       "      <th>V27</th>\n",
       "      <th>V28</th>\n",
       "      <th>Amount</th>\n",
       "      <th>Class</th>\n",
       "    </tr>\n",
       "  </thead>\n",
       "  <tbody>\n",
       "    <tr>\n",
       "      <th>0</th>\n",
       "      <td>-1.359807</td>\n",
       "      <td>-0.072781</td>\n",
       "      <td>2.536347</td>\n",
       "      <td>1.378155</td>\n",
       "      <td>-0.338321</td>\n",
       "      <td>0.462388</td>\n",
       "      <td>0.239599</td>\n",
       "      <td>0.098698</td>\n",
       "      <td>0.363787</td>\n",
       "      <td>0.090794</td>\n",
       "      <td>...</td>\n",
       "      <td>-0.018307</td>\n",
       "      <td>0.277838</td>\n",
       "      <td>-0.110474</td>\n",
       "      <td>0.066928</td>\n",
       "      <td>0.128539</td>\n",
       "      <td>-0.189115</td>\n",
       "      <td>0.133558</td>\n",
       "      <td>-0.021053</td>\n",
       "      <td>149.62</td>\n",
       "      <td>0</td>\n",
       "    </tr>\n",
       "    <tr>\n",
       "      <th>1</th>\n",
       "      <td>1.191857</td>\n",
       "      <td>0.266151</td>\n",
       "      <td>0.166480</td>\n",
       "      <td>0.448154</td>\n",
       "      <td>0.060018</td>\n",
       "      <td>-0.082361</td>\n",
       "      <td>-0.078803</td>\n",
       "      <td>0.085102</td>\n",
       "      <td>-0.255425</td>\n",
       "      <td>-0.166974</td>\n",
       "      <td>...</td>\n",
       "      <td>-0.225775</td>\n",
       "      <td>-0.638672</td>\n",
       "      <td>0.101288</td>\n",
       "      <td>-0.339846</td>\n",
       "      <td>0.167170</td>\n",
       "      <td>0.125895</td>\n",
       "      <td>-0.008983</td>\n",
       "      <td>0.014724</td>\n",
       "      <td>2.69</td>\n",
       "      <td>0</td>\n",
       "    </tr>\n",
       "    <tr>\n",
       "      <th>2</th>\n",
       "      <td>-1.358354</td>\n",
       "      <td>-1.340163</td>\n",
       "      <td>1.773209</td>\n",
       "      <td>0.379780</td>\n",
       "      <td>-0.503198</td>\n",
       "      <td>1.800499</td>\n",
       "      <td>0.791461</td>\n",
       "      <td>0.247676</td>\n",
       "      <td>-1.514654</td>\n",
       "      <td>0.207643</td>\n",
       "      <td>...</td>\n",
       "      <td>0.247998</td>\n",
       "      <td>0.771679</td>\n",
       "      <td>0.909412</td>\n",
       "      <td>-0.689281</td>\n",
       "      <td>-0.327642</td>\n",
       "      <td>-0.139097</td>\n",
       "      <td>-0.055353</td>\n",
       "      <td>-0.059752</td>\n",
       "      <td>378.66</td>\n",
       "      <td>0</td>\n",
       "    </tr>\n",
       "    <tr>\n",
       "      <th>3</th>\n",
       "      <td>-0.966272</td>\n",
       "      <td>-0.185226</td>\n",
       "      <td>1.792993</td>\n",
       "      <td>-0.863291</td>\n",
       "      <td>-0.010309</td>\n",
       "      <td>1.247203</td>\n",
       "      <td>0.237609</td>\n",
       "      <td>0.377436</td>\n",
       "      <td>-1.387024</td>\n",
       "      <td>-0.054952</td>\n",
       "      <td>...</td>\n",
       "      <td>-0.108300</td>\n",
       "      <td>0.005274</td>\n",
       "      <td>-0.190321</td>\n",
       "      <td>-1.175575</td>\n",
       "      <td>0.647376</td>\n",
       "      <td>-0.221929</td>\n",
       "      <td>0.062723</td>\n",
       "      <td>0.061458</td>\n",
       "      <td>123.50</td>\n",
       "      <td>0</td>\n",
       "    </tr>\n",
       "    <tr>\n",
       "      <th>4</th>\n",
       "      <td>-1.158233</td>\n",
       "      <td>0.877737</td>\n",
       "      <td>1.548718</td>\n",
       "      <td>0.403034</td>\n",
       "      <td>-0.407193</td>\n",
       "      <td>0.095921</td>\n",
       "      <td>0.592941</td>\n",
       "      <td>-0.270533</td>\n",
       "      <td>0.817739</td>\n",
       "      <td>0.753074</td>\n",
       "      <td>...</td>\n",
       "      <td>-0.009431</td>\n",
       "      <td>0.798278</td>\n",
       "      <td>-0.137458</td>\n",
       "      <td>0.141267</td>\n",
       "      <td>-0.206010</td>\n",
       "      <td>0.502292</td>\n",
       "      <td>0.219422</td>\n",
       "      <td>0.215153</td>\n",
       "      <td>69.99</td>\n",
       "      <td>0</td>\n",
       "    </tr>\n",
       "  </tbody>\n",
       "</table>\n",
       "<p>5 rows × 30 columns</p>\n",
       "</div>"
      ],
      "text/plain": [
       "         V1        V2        V3        V4        V5        V6        V7  \\\n",
       "0 -1.359807 -0.072781  2.536347  1.378155 -0.338321  0.462388  0.239599   \n",
       "1  1.191857  0.266151  0.166480  0.448154  0.060018 -0.082361 -0.078803   \n",
       "2 -1.358354 -1.340163  1.773209  0.379780 -0.503198  1.800499  0.791461   \n",
       "3 -0.966272 -0.185226  1.792993 -0.863291 -0.010309  1.247203  0.237609   \n",
       "4 -1.158233  0.877737  1.548718  0.403034 -0.407193  0.095921  0.592941   \n",
       "\n",
       "         V8        V9       V10  ...       V21       V22       V23       V24  \\\n",
       "0  0.098698  0.363787  0.090794  ... -0.018307  0.277838 -0.110474  0.066928   \n",
       "1  0.085102 -0.255425 -0.166974  ... -0.225775 -0.638672  0.101288 -0.339846   \n",
       "2  0.247676 -1.514654  0.207643  ...  0.247998  0.771679  0.909412 -0.689281   \n",
       "3  0.377436 -1.387024 -0.054952  ... -0.108300  0.005274 -0.190321 -1.175575   \n",
       "4 -0.270533  0.817739  0.753074  ... -0.009431  0.798278 -0.137458  0.141267   \n",
       "\n",
       "        V25       V26       V27       V28  Amount  Class  \n",
       "0  0.128539 -0.189115  0.133558 -0.021053  149.62      0  \n",
       "1  0.167170  0.125895 -0.008983  0.014724    2.69      0  \n",
       "2 -0.327642 -0.139097 -0.055353 -0.059752  378.66      0  \n",
       "3  0.647376 -0.221929  0.062723  0.061458  123.50      0  \n",
       "4 -0.206010  0.502292  0.219422  0.215153   69.99      0  \n",
       "\n",
       "[5 rows x 30 columns]"
      ]
     },
     "execution_count": 11,
     "metadata": {},
     "output_type": "execute_result"
    }
   ],
   "source": [
    "df1.head()"
   ]
  },
  {
   "cell_type": "code",
   "execution_count": 12,
   "id": "dc9c274e",
   "metadata": {},
   "outputs": [
    {
     "name": "stdout",
     "output_type": "stream",
     "text": [
      "<class 'pandas.core.frame.DataFrame'>\n",
      "Int64Index: 275663 entries, 0 to 284806\n",
      "Data columns (total 30 columns):\n",
      " #   Column  Non-Null Count   Dtype  \n",
      "---  ------  --------------   -----  \n",
      " 0   V1      275663 non-null  float64\n",
      " 1   V2      275663 non-null  float64\n",
      " 2   V3      275663 non-null  float64\n",
      " 3   V4      275663 non-null  float64\n",
      " 4   V5      275663 non-null  float64\n",
      " 5   V6      275663 non-null  float64\n",
      " 6   V7      275663 non-null  float64\n",
      " 7   V8      275663 non-null  float64\n",
      " 8   V9      275663 non-null  float64\n",
      " 9   V10     275663 non-null  float64\n",
      " 10  V11     275663 non-null  float64\n",
      " 11  V12     275663 non-null  float64\n",
      " 12  V13     275663 non-null  float64\n",
      " 13  V14     275663 non-null  float64\n",
      " 14  V15     275663 non-null  float64\n",
      " 15  V16     275663 non-null  float64\n",
      " 16  V17     275663 non-null  float64\n",
      " 17  V18     275663 non-null  float64\n",
      " 18  V19     275663 non-null  float64\n",
      " 19  V20     275663 non-null  float64\n",
      " 20  V21     275663 non-null  float64\n",
      " 21  V22     275663 non-null  float64\n",
      " 22  V23     275663 non-null  float64\n",
      " 23  V24     275663 non-null  float64\n",
      " 24  V25     275663 non-null  float64\n",
      " 25  V26     275663 non-null  float64\n",
      " 26  V27     275663 non-null  float64\n",
      " 27  V28     275663 non-null  float64\n",
      " 28  Amount  275663 non-null  float64\n",
      " 29  Class   275663 non-null  int64  \n",
      "dtypes: float64(29), int64(1)\n",
      "memory usage: 65.2 MB\n"
     ]
    }
   ],
   "source": [
    "df1.info()"
   ]
  },
  {
   "cell_type": "code",
   "execution_count": null,
   "id": "9658b069",
   "metadata": {},
   "outputs": [],
   "source": []
  },
  {
   "cell_type": "markdown",
   "id": "4e9b768e",
   "metadata": {},
   "source": [
    "Let's look at the number of the target variable:"
   ]
  },
  {
   "cell_type": "code",
   "execution_count": 13,
   "id": "43edeb40",
   "metadata": {
    "scrolled": true
   },
   "outputs": [
    {
     "data": {
      "text/plain": [
       "0    275190\n",
       "1       473\n",
       "Name: Class, dtype: int64"
      ]
     },
     "execution_count": 13,
     "metadata": {},
     "output_type": "execute_result"
    }
   ],
   "source": [
    "df1['Class'].value_counts()"
   ]
  },
  {
   "cell_type": "markdown",
   "id": "ebdc7044",
   "metadata": {},
   "source": [
    "Number of Normal (NOT Fraudulent Transaction): 275190\n",
    "\n",
    "Number of Fraudulent: 473"
   ]
  },
  {
   "cell_type": "markdown",
   "id": "046e7a5f",
   "metadata": {},
   "source": [
    "#### The dataset is unfortunately ***unbalanced*** dataset"
   ]
  },
  {
   "cell_type": "code",
   "execution_count": null,
   "id": "ed3e802b",
   "metadata": {},
   "outputs": [],
   "source": []
  },
  {
   "cell_type": "code",
   "execution_count": 14,
   "id": "0c2d863c",
   "metadata": {},
   "outputs": [
    {
     "data": {
      "image/png": "[encoded data removed]",
      "text/plain": [
       "<Figure size 432x288 with 1 Axes>"
      ]
     },
     "metadata": {},
     "output_type": "display_data"
    }
   ],
   "source": [
    "explode = [0.2, 0]\n",
    "labels = [\"NOT Fraud\", \"Fraud\"]\n",
    "plt.pie(df1['Class'].value_counts(), labels = labels, explode = explode, shadow=True, autopct='%1.2f%%')\n",
    "plt.title(\"Class\")\n",
    "plt.legend()\n",
    "plt.show()"
   ]
  },
  {
   "cell_type": "markdown",
   "id": "761a21ba",
   "metadata": {},
   "source": [
    "Only 0.17% of transactions are fraudulent ---> **unbalanced**"
   ]
  },
  {
   "cell_type": "code",
   "execution_count": 16,
   "id": "35fe8d3b",
   "metadata": {},
   "outputs": [
    {
     "data": {
      "image/png": "[encoded data removed]",
      "text/plain": [
       "<Figure size 432x288 with 1 Axes>"
      ]
     },
     "metadata": {
      "needs_background": "light"
     },
     "output_type": "display_data"
    }
   ],
   "source": [
    "plt.suptitle('Count plot for Class feature', fontsize = 20, color= 'teal')\n",
    "sns.countplot(x =df1[\"Class\"], palette= 'viridis')\n",
    "\n",
    "x= [\"NOT Fraud\", \"Fraud\"]\n",
    "default_x_ticks = range(len(x))\n",
    "plt.xticks(default_x_ticks, x)\n",
    "\n",
    "plt.tight_layout()\n",
    "plt.show()"
   ]
  },
  {
   "cell_type": "code",
   "execution_count": 17,
   "id": "b251abeb",
   "metadata": {},
   "outputs": [
    {
     "data": {
      "image/png": "[encoded data removed]",
      "text/plain": [
       "<Figure size 432x288 with 1 Axes>"
      ]
     },
     "metadata": {
      "needs_background": "light"
     },
     "output_type": "display_data"
    }
   ],
   "source": [
    "plt.suptitle('Amount per transisition by Fraud', fontsize = 20, color= 'teal')\n",
    "bins =50\n",
    "plt.hist(df1[df1['Class']==1].Amount, bins= bins)\n",
    "plt.yscale('log')\n",
    "plt.show()"
   ]
  },
  {
   "cell_type": "code",
   "execution_count": 18,
   "id": "f0f3a9d3",
   "metadata": {},
   "outputs": [
    {
     "data": {
      "image/png": "[encoded data removed]",
      "text/plain": [
       "<Figure size 432x288 with 1 Axes>"
      ]
     },
     "metadata": {
      "needs_background": "light"
     },
     "output_type": "display_data"
    }
   ],
   "source": [
    "plt.suptitle('Amount per transisition by NOT Fraud', fontsize = 20, color= 'teal')\n",
    "bins =50\n",
    "plt.hist(df1[df1['Class']==0].Amount, bins= bins)\n",
    "plt.yscale('log')\n",
    "plt.show()"
   ]
  },
  {
   "cell_type": "code",
   "execution_count": null,
   "id": "96cde12b",
   "metadata": {},
   "outputs": [],
   "source": []
  },
  {
   "cell_type": "markdown",
   "id": "28b452cf",
   "metadata": {},
   "source": [
    "## Handling Outliers"
   ]
  },
  {
   "cell_type": "code",
   "execution_count": 19,
   "id": "f3c3d3b2",
   "metadata": {},
   "outputs": [
    {
     "data": {
      "text/plain": [
       "['V1',\n",
       " 'V2',\n",
       " 'V3',\n",
       " 'V4',\n",
       " 'V5',\n",
       " 'V6',\n",
       " 'V7',\n",
       " 'V8',\n",
       " 'V9',\n",
       " 'V10',\n",
       " 'V11',\n",
       " 'V12',\n",
       " 'V13',\n",
       " 'V14',\n",
       " 'V15',\n",
       " 'V16',\n",
       " 'V17',\n",
       " 'V18',\n",
       " 'V19',\n",
       " 'V20',\n",
       " 'V21',\n",
       " 'V22',\n",
       " 'V23',\n",
       " 'V24',\n",
       " 'V25',\n",
       " 'V26',\n",
       " 'V27',\n",
       " 'V28',\n",
       " 'Amount']"
      ]
     },
     "execution_count": 19,
     "metadata": {},
     "output_type": "execute_result"
    }
   ],
   "source": [
    "float_cols= [cname for cname in df1.columns \n",
    "                   if df1[cname].dtype in [\"float\"]]\n",
    "float_cols"
   ]
  },
  {
   "cell_type": "code",
   "execution_count": 20,
   "id": "5eafde7e",
   "metadata": {},
   "outputs": [
    {
     "data": {
      "image/png": "[encoded data removed]",
      "text/plain": [
       "<Figure size 432x288 with 1 Axes>"
      ]
     },
     "metadata": {
      "needs_background": "light"
     },
     "output_type": "display_data"
    },
    {
     "data": {
      "image/png": "[encoded data removed]",
      "text/plain": [
       "<Figure size 432x288 with 1 Axes>"
      ]
     },
     "metadata": {
      "needs_background": "light"
     },
     "output_type": "display_data"
    },
    {
     "data": {
      "image/png": "[encoded data removed]",
      "text/plain": [
       "<Figure size 432x288 with 1 Axes>"
      ]
     },
     "metadata": {
      "needs_background": "light"
     },
     "output_type": "display_data"
    },
    {
     "data": {
      "image/png": "[encoded data removed]",
      "text/plain": [
       "<Figure size 432x288 with 1 Axes>"
      ]
     },
     "metadata": {
      "needs_background": "light"
     },
     "output_type": "display_data"
    },
    {
     "data": {
      "image/png": "[encoded data removed]",
      "text/plain": [
       "<Figure size 432x288 with 1 Axes>"
      ]
     },
     "metadata": {
      "needs_background": "light"
     },
     "output_type": "display_data"
    },
    {
     "data": {
      "image/png": "[encoded data removed]",
      "text/plain": [
       "<Figure size 432x288 with 1 Axes>"
      ]
     },
     "metadata": {
      "needs_background": "light"
     },
     "output_type": "display_data"
    },
    {
     "data": {
      "image/png": "[encoded data removed]",
      "text/plain": [
       "<Figure size 432x288 with 1 Axes>"
      ]
     },
     "metadata": {
      "needs_background": "light"
     },
     "output_type": "display_data"
    },
    {
     "data": {
      "image/png": "[encoded data removed]",
      "text/plain": [
       "<Figure size 432x288 with 1 Axes>"
      ]
     },
     "metadata": {
      "needs_background": "light"
     },
     "output_type": "display_data"
    },
    {
     "data": {
      "image/png": "[encoded data removed]",
      "text/plain": [
       "<Figure size 432x288 with 1 Axes>"
      ]
     },
     "metadata": {
      "needs_background": "light"
     },
     "output_type": "display_data"
    },
    {
     "data": {
      "image/png": "[encoded data removed]",
      "text/plain": [
       "<Figure size 432x288 with 1 Axes>"
      ]
     },
     "metadata": {
      "needs_background": "light"
     },
     "output_type": "display_data"
    },
    {
     "data": {
      "image/png": "[encoded data removed]",
      "text/plain": [
       "<Figure size 432x288 with 1 Axes>"
      ]
     },
     "metadata": {
      "needs_background": "light"
     },
     "output_type": "display_data"
    },
    {
     "data": {
      "image/png": "[encoded data removed]",
      "text/plain": [
       "<Figure size 432x288 with 1 Axes>"
      ]
     },
     "metadata": {
      "needs_background": "light"
     },
     "output_type": "display_data"
    },
    {
     "data": {
      "image/png": "[encoded data removed]",
      "text/plain": [
       "<Figure size 432x288 with 1 Axes>"
      ]
     },
     "metadata": {
      "needs_background": "light"
     },
     "output_type": "display_data"
    },
    {
     "data": {
      "image/png": "[encoded data removed]",
      "text/plain": [
       "<Figure size 432x288 with 1 Axes>"
      ]
     },
     "metadata": {
      "needs_background": "light"
     },
     "output_type": "display_data"
    },
    {
     "data": {
      "image/png": "[encoded data removed]",
      "text/plain": [
       "<Figure size 432x288 with 1 Axes>"
      ]
     },
     "metadata": {
      "needs_background": "light"
     },
     "output_type": "display_data"
    },
    {
     "data": {
      "image/png": "[encoded data removed]",
      "text/plain": [
       "<Figure size 432x288 with 1 Axes>"
      ]
     },
     "metadata": {
      "needs_background": "light"
     },
     "output_type": "display_data"
    },
    {
     "data": {
      "image/png": "[encoded data removed]",
      "text/plain": [
       "<Figure size 432x288 with 1 Axes>"
      ]
     },
     "metadata": {
      "needs_background": "light"
     },
     "output_type": "display_data"
    },
    {
     "data": {
      "image/png": "[encoded data removed]",
      "text/plain": [
       "<Figure size 432x288 with 1 Axes>"
      ]
     },
     "metadata": {
      "needs_background": "light"
     },
     "output_type": "display_data"
    },
    {
     "data": {
      "image/png": "[encoded data removed]",
      "text/plain": [
       "<Figure size 432x288 with 1 Axes>"
      ]
     },
     "metadata": {
      "needs_background": "light"
     },
     "output_type": "display_data"
    },
    {
     "data": {
      "image/png": "[encoded data removed]",
      "text/plain": [
       "<Figure size 432x288 with 1 Axes>"
      ]
     },
     "metadata": {
      "needs_background": "light"
     },
     "output_type": "display_data"
    },
    {
     "data": {
      "image/png": "[encoded data removed]",
      "text/plain": [
       "<Figure size 432x288 with 1 Axes>"
      ]
     },
     "metadata": {
      "needs_background": "light"
     },
     "output_type": "display_data"
    },
    {
     "data": {
      "image/png": "[encoded data removed]",
      "text/plain": [
       "<Figure size 432x288 with 1 Axes>"
      ]
     },
     "metadata": {
      "needs_background": "light"
     },
     "output_type": "display_data"
    },
    {
     "data": {
      "image/png": "[encoded data removed]",
      "text/plain": [
       "<Figure size 432x288 with 1 Axes>"
      ]
     },
     "metadata": {
      "needs_background": "light"
     },
     "output_type": "display_data"
    },
    {
     "data": {
      "image/png": "[encoded data removed]",
      "text/plain": [
       "<Figure size 432x288 with 1 Axes>"
      ]
     },
     "metadata": {
      "needs_background": "light"
     },
     "output_type": "display_data"
    },
    {
     "data": {
      "image/png": "[encoded data removed]",
      "text/plain": [
       "<Figure size 432x288 with 1 Axes>"
      ]
     },
     "metadata": {
      "needs_background": "light"
     },
     "output_type": "display_data"
    },
    {
     "data": {
      "image/png": "[encoded data removed]",
      "text/plain": [
       "<Figure size 432x288 with 1 Axes>"
      ]
     },
     "metadata": {
      "needs_background": "light"
     },
     "output_type": "display_data"
    },
    {
     "data": {
      "image/png": "[encoded data removed]",
      "text/plain": [
       "<Figure size 432x288 with 1 Axes>"
      ]
     },
     "metadata": {
      "needs_background": "light"
     },
     "output_type": "display_data"
    },
    {
     "data": {
      "image/png": "[encoded data removed]",
      "text/plain": [
       "<Figure size 432x288 with 1 Axes>"
      ]
     },
     "metadata": {
      "needs_background": "light"
     },
     "output_type": "display_data"
    },
    {
     "data": {
      "image/png": "[encoded data removed]",
      "text/plain": [
       "<Figure size 432x288 with 1 Axes>"
      ]
     },
     "metadata": {
      "needs_background": "light"
     },
     "output_type": "display_data"
    }
   ],
   "source": [
    "for i in float_cols:\n",
    "    plt.figure()\n",
    "    plt.tight_layout()\n",
    "    plt.gca().set(xlabel= i, ylabel='Frequency')\n",
    "    plt.boxplot(df1[i])"
   ]
  },
  {
   "cell_type": "code",
   "execution_count": null,
   "id": "667fc6d5",
   "metadata": {},
   "outputs": [],
   "source": []
  },
  {
   "cell_type": "code",
   "execution_count": 21,
   "id": "4b83167f",
   "metadata": {},
   "outputs": [
    {
     "name": "stdout",
     "output_type": "stream",
     "text": [
      "Number of outliers for entire dataset =  13470\n"
     ]
    }
   ],
   "source": [
    "#Find the outliers records which fall with +/- 5% boundaries \n",
    "\n",
    "Q1 = df1.quantile(0.05)\n",
    "Q3 = df1.quantile(0.95)\n",
    "IQR = Q3 - Q1\n",
    "\n",
    "print(\"Number of outliers for entire dataset = \", len(df1[((df1 < (Q1 - 1.5 * IQR)) | (df1 > (Q3 + 1.5 * IQR))).any(axis=1)]))"
   ]
  },
  {
   "cell_type": "code",
   "execution_count": 22,
   "id": "ee5bb931",
   "metadata": {
    "scrolled": false
   },
   "outputs": [
    {
     "data": {
      "text/plain": [
       "Int64Index([     7,     18,     51,     82,     89,    132,    146,    150,\n",
       "               162,    164,\n",
       "            ...\n",
       "            284606, 284631, 284649, 284672, 284714, 284721, 284742, 284772,\n",
       "            284795, 284802],\n",
       "           dtype='int64', length=13470)"
      ]
     },
     "execution_count": 22,
     "metadata": {},
     "output_type": "execute_result"
    }
   ],
   "source": [
    "outliers_index= df1[((df1 < (Q1 - 1.5 * IQR)) |(df1 > (Q3 + 1.5 * IQR))).any(axis=1)].index\n",
    "outliers_index"
   ]
  },
  {
   "cell_type": "markdown",
   "id": "98c27c4f",
   "metadata": {},
   "source": [
    "It is inevitable to have outliers in the data set. Dropping outliers can make the model less reliable. we also have imbalanced data (Only 0.17% of transactions are fraudulent.). \n",
    "\n",
    "So, I decided that I will keep them in the dataset."
   ]
  },
  {
   "cell_type": "code",
   "execution_count": null,
   "id": "ccdcd170",
   "metadata": {},
   "outputs": [],
   "source": []
  },
  {
   "cell_type": "markdown",
   "id": "5a9c2542",
   "metadata": {},
   "source": [
    "## Splitting the data into train and test sets"
   ]
  },
  {
   "cell_type": "code",
   "execution_count": 23,
   "id": "37f86f08",
   "metadata": {},
   "outputs": [],
   "source": [
    "X= df1.drop([\"Class\"], axis=1)\n",
    "y= df1.Class"
   ]
  },
  {
   "cell_type": "code",
   "execution_count": 24,
   "id": "f6cee993",
   "metadata": {},
   "outputs": [],
   "source": [
    "from sklearn.model_selection import train_test_split\n",
    "X_train, X_test, y_train, y_test = train_test_split(X, y, test_size=0.30, random_state=42)"
   ]
  },
  {
   "cell_type": "code",
   "execution_count": 25,
   "id": "30018a9b",
   "metadata": {},
   "outputs": [
    {
     "data": {
      "text/plain": [
       "((192964, 29), (82699, 29), (192964,), (82699,))"
      ]
     },
     "execution_count": 25,
     "metadata": {},
     "output_type": "execute_result"
    }
   ],
   "source": [
    "X_train.shape, X_test.shape, y_train.shape, y_test.shape"
   ]
  },
  {
   "cell_type": "code",
   "execution_count": null,
   "id": "5960ed66",
   "metadata": {},
   "outputs": [],
   "source": []
  },
  {
   "cell_type": "markdown",
   "id": "70df3b72",
   "metadata": {},
   "source": [
    "Data has 28 features transformed with PCA, but the Amount is the original one. We will scale only this variable."
   ]
  },
  {
   "cell_type": "code",
   "execution_count": 26,
   "id": "ffd75786",
   "metadata": {},
   "outputs": [],
   "source": [
    "from sklearn.preprocessing import StandardScaler\n",
    "\n",
    "\n",
    "X_train[\"Amount\"]= StandardScaler().fit_transform(X_train[\"Amount\"].values.reshape(-1, 1))\n",
    "X_test[\"Amount\"]= StandardScaler().fit_transform(X_test[\"Amount\"].values.reshape(-1, 1))"
   ]
  },
  {
   "cell_type": "markdown",
   "id": "e6a295d7",
   "metadata": {},
   "source": [
    "## Model building"
   ]
  },
  {
   "cell_type": "code",
   "execution_count": 27,
   "id": "2969e23e",
   "metadata": {},
   "outputs": [],
   "source": [
    "from sklearn.neighbors import KNeighborsClassifier\n",
    "from sklearn.linear_model import LogisticRegression\n",
    "from sklearn.svm import SVC\n",
    "from sklearn.ensemble import RandomForestClassifier\n",
    "from sklearn.ensemble import GradientBoostingClassifier"
   ]
  },
  {
   "cell_type": "markdown",
   "id": "bde11196",
   "metadata": {},
   "source": [
    "Our dataset is an unbalanced dataset. Probably the accuracy will be very high, for now, we will only use 2 models to show this."
   ]
  },
  {
   "cell_type": "code",
   "execution_count": 28,
   "id": "b5e704b8",
   "metadata": {},
   "outputs": [],
   "source": [
    "models = {\n",
    "    'K-Nearest Neighbors' : KNeighborsClassifier(),\n",
    "    'Logistic Regression' : LogisticRegression(),\n",
    "    #'Support Vector Machine' : SVC(),\n",
    "    #'Random Forest' : RandomForestClassifier(),\n",
    "    #'Gradient Boosting' : GradientBoostingClassifier()    \n",
    "}"
   ]
  },
  {
   "cell_type": "code",
   "execution_count": 29,
   "id": "3b299a15",
   "metadata": {},
   "outputs": [
    {
     "name": "stdout",
     "output_type": "stream",
     "text": [
      "K-Nearest Neighbors trained\n",
      "Logistic Regression trained\n",
      "CPU times: total: 4.27 s\n",
      "Wall time: 2.33 s\n"
     ]
    }
   ],
   "source": [
    "%%time\n",
    "for name, model in models.items():\n",
    "    model.fit(X_train, y_train)\n",
    "    print(f'{name} trained')"
   ]
  },
  {
   "cell_type": "code",
   "execution_count": null,
   "id": "f9cf1bb4",
   "metadata": {},
   "outputs": [],
   "source": []
  },
  {
   "cell_type": "markdown",
   "id": "69504aaf",
   "metadata": {},
   "source": [
    "## Model evaluation"
   ]
  },
  {
   "cell_type": "code",
   "execution_count": 30,
   "id": "44480431",
   "metadata": {},
   "outputs": [],
   "source": [
    "from sklearn.metrics import accuracy_score \n",
    "from sklearn.metrics import confusion_matrix as CM\n",
    "from sklearn.metrics import classification_report"
   ]
  },
  {
   "cell_type": "code",
   "execution_count": 31,
   "id": "b78e0e6f",
   "metadata": {
    "scrolled": true
   },
   "outputs": [
    {
     "name": "stdout",
     "output_type": "stream",
     "text": [
      "K-Nearest Neighbors accuracy score :  0.999\n",
      "Logistic Regression accuracy score :  0.999\n",
      "CPU times: total: 3min 34s\n",
      "Wall time: 1min 10s\n"
     ]
    }
   ],
   "source": [
    "%%time\n",
    "for name in models:\n",
    "    acc_score= round(accuracy_score(y_test, models.get(name).predict(X_test)), 3)\n",
    "    print(f'{name} accuracy score :  {acc_score}')"
   ]
  },
  {
   "cell_type": "markdown",
   "id": "839571fa",
   "metadata": {},
   "source": [
    "As we predicted, The accuracy of the models we built is 0.999. ***We can say that our models run correctly?***"
   ]
  },
  {
   "cell_type": "code",
   "execution_count": 32,
   "id": "8156e1ba",
   "metadata": {
    "scrolled": true
   },
   "outputs": [
    {
     "name": "stdout",
     "output_type": "stream",
     "text": [
      "K-Nearest Neighbors classification report\n",
      "-------------------------------\n",
      "              precision    recall  f1-score   support\n",
      "\n",
      "           0       1.00      1.00      1.00     82563\n",
      "           1       0.89      0.77      0.83       136\n",
      "\n",
      "    accuracy                           1.00     82699\n",
      "   macro avg       0.94      0.89      0.91     82699\n",
      "weighted avg       1.00      1.00      1.00     82699\n",
      "\n",
      "******************************\n",
      " \n",
      "Logistic Regression classification report\n",
      "-------------------------------\n",
      "              precision    recall  f1-score   support\n",
      "\n",
      "           0       1.00      1.00      1.00     82563\n",
      "           1       0.85      0.59      0.70       136\n",
      "\n",
      "    accuracy                           1.00     82699\n",
      "   macro avg       0.93      0.79      0.85     82699\n",
      "weighted avg       1.00      1.00      1.00     82699\n",
      "\n",
      "******************************\n",
      " \n"
     ]
    }
   ],
   "source": [
    "for name in models:\n",
    "    print(f'{name} classification report')\n",
    "    print(\"-------------------------------\")\n",
    "    print(classification_report(y_test, models.get(name).predict(X_test)))\n",
    "    print(\"******************************\")\n",
    "    print(\" \")"
   ]
  },
  {
   "cell_type": "markdown",
   "id": "7394a0b5",
   "metadata": {},
   "source": [
    "Let's check the Confusion Matrices:"
   ]
  },
  {
   "cell_type": "code",
   "execution_count": 33,
   "id": "2b93cec8",
   "metadata": {
    "scrolled": true
   },
   "outputs": [
    {
     "name": "stdout",
     "output_type": "stream",
     "text": [
      "K-Nearest Neighbors ConfusionMatrix\n"
     ]
    },
    {
     "data": {
      "image/png": "[encoded data removed]",
      "text/plain": [
       "<Figure size 432x288 with 2 Axes>"
      ]
     },
     "metadata": {
      "needs_background": "light"
     },
     "output_type": "display_data"
    },
    {
     "name": "stdout",
     "output_type": "stream",
     "text": [
      "******************************\n",
      " \n",
      "Logistic Regression ConfusionMatrix\n"
     ]
    },
    {
     "data": {
      "image/png": "[encoded data removed]",
      "text/plain": [
       "<Figure size 432x288 with 2 Axes>"
      ]
     },
     "metadata": {
      "needs_background": "light"
     },
     "output_type": "display_data"
    },
    {
     "name": "stdout",
     "output_type": "stream",
     "text": [
      "******************************\n",
      " \n"
     ]
    }
   ],
   "source": [
    "for name in models:\n",
    "    print(f'{name} ConfusionMatrix')\n",
    "    predictions= models.get(name).predict(X_test)\n",
    "    score = round(accuracy_score(y_test, models.get(name).predict(X_test)), 3)\n",
    "    confusionMatrix = CM(y_test, models.get(name).predict(X_test))\n",
    "    sns.heatmap(confusionMatrix, annot=True, fmt=\".0f\")\n",
    "    plt.xlabel('Actual Values')\n",
    "    plt.ylabel('Prediction Values')\n",
    "    plt.title('Accuracy Score: {0}'.format(score), size = 15)\n",
    "    plt.show()\n",
    "    print(\"******************************\")\n",
    "    print(\" \")"
   ]
  },
  {
   "attachments": {
    "image.png": {
     "image/png": "[encoded data removed]"
    }
   },
   "cell_type": "markdown",
   "id": "beab0003",
   "metadata": {},
   "source": [
    "![image.png](attachment:image.png)"
   ]
  },
  {
   "attachments": {
    "image-4.png": {
     "image/png": "[encoded data removed]"
    }
   },
   "cell_type": "markdown",
   "id": "6d19bfaf",
   "metadata": {},
   "source": [
    "For example, let's handle the Confusion Matrix of Logistic Regression Model:\n",
    "\n",
    "![image-4.png](attachment:image-4.png)"
   ]
  },
  {
   "cell_type": "markdown",
   "id": "7804fc1f",
   "metadata": {},
   "source": [
    "for Normal Class (NOT Fraudulent Transaction), there are 82563 predicitons with 82549 (TruePositive) and 11 (FalsePositive)\n",
    "\n",
    "and\n",
    "\n",
    "for Fraud Class, there are 136 predicitons with 56 (FalseNegative) and 80 (TrueNegative)."
   ]
  },
  {
   "cell_type": "markdown",
   "id": "4f163732",
   "metadata": {},
   "source": [
    "The models can predict with 0.99 accuracies, but when we look at the Confusion Matrix, the rate of false predictions in the Fraud class is quite high. Actually, the model correctly predicts the non-fraud class with 0.99 accuracies. Because our dataset is an imbalanced dataset (Only 0.17% of transactions are fraudulent)."
   ]
  },
  {
   "cell_type": "code",
   "execution_count": null,
   "id": "692c3268",
   "metadata": {},
   "outputs": [],
   "source": []
  },
  {
   "attachments": {
    "image-3.png": {
     "image/png": "[encoded data removed]"
    }
   },
   "cell_type": "markdown",
   "id": "d968b192",
   "metadata": {},
   "source": [
    "Similarly, let's handle the Logistic Regression Model's classification report:\n",
    "\n",
    "![image-3.png](attachment:image-3.png)"
   ]
  },
  {
   "cell_type": "markdown",
   "id": "490d0930",
   "metadata": {},
   "source": [
    "As can be seen in the above report, the metrics of class=1 are low. \n",
    "\n",
    "Although our model has a high accuracy, the accuracy is only reflecting class=0."
   ]
  },
  {
   "cell_type": "code",
   "execution_count": null,
   "id": "761f39b0",
   "metadata": {},
   "outputs": [],
   "source": []
  },
  {
   "cell_type": "markdown",
   "id": "70c0f37d",
   "metadata": {},
   "source": [
    "Imbalanced datasets are those where there is a severe skew in the class distribution, such as 1:100 or 1:1000 examples in the minority class to the majority class.\n",
    "\n",
    "This bias in the training dataset can influence many machine learning algorithms, leading some to ignore the minority class entirely. This is a problem as it is typically the minority class on which predictions are most important.\n",
    "\n",
    "One approach to addressing the problem of class imbalance is to randomly resample the training dataset. The two main approaches to randomly resampling an imbalanced dataset are to delete examples from the majority class, called undersampling, and to duplicate examples from the minority class, called oversampling."
   ]
  },
  {
   "cell_type": "markdown",
   "id": "cd5cc78c",
   "metadata": {},
   "source": [
    "Now let's handle how to deal with this problem:"
   ]
  },
  {
   "cell_type": "markdown",
   "id": "ae5ee4b4",
   "metadata": {},
   "source": [
    "## Resampling"
   ]
  },
  {
   "cell_type": "markdown",
   "id": "a2ba360c",
   "metadata": {},
   "source": [
    "One of the ways to deal with this problem is **Resampling**."
   ]
  },
  {
   "cell_type": "markdown",
   "id": "b77e5473",
   "metadata": {},
   "source": [
    "We can change the dataset that we use to build our predictive model to have more balanced data. This change is called sampling our dataset and there are two main methods that we can use to even up the classes:\n",
    "\n",
    "We can add copies of instances from the under-represented class called **over-sampling** (or more formally sampling with replacement)\n",
    "\n",
    "or\n",
    "\n",
    "We can delete instances from the over-represented class, called **under-sampling**."
   ]
  },
  {
   "cell_type": "markdown",
   "id": "e599c2bd",
   "metadata": {},
   "source": [
    "These approaches are often very easy to implement and fast to run. They are an excellent starting point."
   ]
  },
  {
   "cell_type": "markdown",
   "id": "e89f3538",
   "metadata": {},
   "source": [
    "### Over-sampling"
   ]
  },
  {
   "cell_type": "markdown",
   "id": "a8c9a087",
   "metadata": {},
   "source": [
    "Random oversampling involves randomly duplicating examples from the minority class and adding them to the training dataset.\n",
    "\n",
    "Examples from the training dataset are selected randomly with replacements. This means that examples from the minority class can be chosen and added to the new “more balanced” training dataset multiple times; they are selected from the original training dataset, added to the new training dataset, and then returned or “replaced” in the original dataset, allowing them to be selected again."
   ]
  },
  {
   "cell_type": "markdown",
   "id": "9647da35",
   "metadata": {},
   "source": [
    "Random oversampling can be implemented using the ***RandomOverSampler*** class."
   ]
  },
  {
   "cell_type": "markdown",
   "id": "3b9941f9",
   "metadata": {},
   "source": [
    "Let's check our training set before over-sampling:"
   ]
  },
  {
   "cell_type": "code",
   "execution_count": 34,
   "id": "30bf9ef3",
   "metadata": {},
   "outputs": [
    {
     "data": {
      "text/plain": [
       "0    192627\n",
       "1       337\n",
       "Name: Class, dtype: int64"
      ]
     },
     "execution_count": 34,
     "metadata": {},
     "output_type": "execute_result"
    }
   ],
   "source": [
    "y_train.value_counts()"
   ]
  },
  {
   "cell_type": "markdown",
   "id": "06aa0b92",
   "metadata": {},
   "source": [
    "Let's implement Random OverSampling:"
   ]
  },
  {
   "cell_type": "code",
   "execution_count": 35,
   "id": "1c7c4bfa",
   "metadata": {
    "scrolled": true
   },
   "outputs": [
    {
     "name": "stdout",
     "output_type": "stream",
     "text": [
      "Requirement already satisfied: imbalanced-learn in c:\\users\\tt z580\\anaconda3\\lib\\site-packages (0.9.1)Note: you may need to restart the kernel to use updated packages.\n",
      "\n",
      "Requirement already satisfied: scikit-learn>=1.1.0 in c:\\users\\tt z580\\anaconda3\\lib\\site-packages (from imbalanced-learn) (1.1.2)\n",
      "Requirement already satisfied: scipy>=1.3.2 in c:\\users\\tt z580\\anaconda3\\lib\\site-packages (from imbalanced-learn) (1.7.3)\n",
      "Requirement already satisfied: joblib>=1.0.0 in c:\\users\\tt z580\\anaconda3\\lib\\site-packages (from imbalanced-learn) (1.1.0)\n",
      "Requirement already satisfied: threadpoolctl>=2.0.0 in c:\\users\\tt z580\\anaconda3\\lib\\site-packages (from imbalanced-learn) (2.2.0)\n",
      "Requirement already satisfied: numpy>=1.17.3 in c:\\users\\tt z580\\anaconda3\\lib\\site-packages (from imbalanced-learn) (1.21.5)\n"
     ]
    }
   ],
   "source": [
    "pip install -U imbalanced-learn"
   ]
  },
  {
   "cell_type": "code",
   "execution_count": 36,
   "id": "974277b0",
   "metadata": {},
   "outputs": [],
   "source": [
    "from imblearn.over_sampling import RandomOverSampler"
   ]
  },
  {
   "cell_type": "code",
   "execution_count": 37,
   "id": "13363649",
   "metadata": {},
   "outputs": [],
   "source": [
    "random_over_sample = RandomOverSampler(sampling_strategy='minority')\n",
    "X_random_over, y_random_over = random_over_sample.fit_resample(X_train, y_train)"
   ]
  },
  {
   "cell_type": "markdown",
   "id": "3187a211",
   "metadata": {},
   "source": [
    "Let's check our training set after over-sampling:"
   ]
  },
  {
   "cell_type": "code",
   "execution_count": 38,
   "id": "ad49d77c",
   "metadata": {},
   "outputs": [
    {
     "data": {
      "text/plain": [
       "0    192627\n",
       "1    192627\n",
       "Name: Class, dtype: int64"
      ]
     },
     "execution_count": 38,
     "metadata": {},
     "output_type": "execute_result"
    }
   ],
   "source": [
    "y_random_over.value_counts()"
   ]
  },
  {
   "cell_type": "code",
   "execution_count": 45,
   "id": "527b08b9",
   "metadata": {},
   "outputs": [],
   "source": [
    "LR_model= models.get('Logistic Regression')"
   ]
  },
  {
   "cell_type": "code",
   "execution_count": 46,
   "id": "1f172af6",
   "metadata": {},
   "outputs": [
    {
     "name": "stdout",
     "output_type": "stream",
     "text": [
      "Accuracy: 0.973%\n"
     ]
    }
   ],
   "source": [
    "LR_model.fit(X_random_over, y_random_over)\n",
    "y_pred_LR = LR_model.predict(X_test)\n",
    "\n",
    "accuracy_LR = accuracy_score(y_test, y_pred_LR)\n",
    "print(\"Accuracy: %.3f%%\" % (accuracy_LR))"
   ]
  },
  {
   "cell_type": "code",
   "execution_count": 47,
   "id": "af51397b",
   "metadata": {},
   "outputs": [
    {
     "data": {
      "text/plain": [
       "<AxesSubplot:>"
      ]
     },
     "execution_count": 47,
     "metadata": {},
     "output_type": "execute_result"
    },
    {
     "data": {
      "image/png": "[encoded data removed]",
      "text/plain": [
       "<Figure size 432x288 with 2 Axes>"
      ]
     },
     "metadata": {
      "needs_background": "light"
     },
     "output_type": "display_data"
    }
   ],
   "source": [
    "confusionMatrix_LR = CM(y_test, LR_model.predict(X_test))\n",
    "sns.heatmap(confusionMatrix_LR, annot=True, fmt=\".0f\")"
   ]
  },
  {
   "cell_type": "code",
   "execution_count": 49,
   "id": "8da5e056",
   "metadata": {},
   "outputs": [
    {
     "name": "stdout",
     "output_type": "stream",
     "text": [
      "              precision    recall  f1-score   support\n",
      "\n",
      "           0       1.00      0.97      0.99     82563\n",
      "           1       0.05      0.90      0.10       136\n",
      "\n",
      "    accuracy                           0.97     82699\n",
      "   macro avg       0.53      0.94      0.54     82699\n",
      "weighted avg       1.00      0.97      0.98     82699\n",
      "\n"
     ]
    }
   ],
   "source": [
    "print(classification_report(y_test, LR_model.predict(X_test)))"
   ]
  },
  {
   "cell_type": "markdown",
   "id": "6ca86fa8",
   "metadata": {},
   "source": [
    "After Random Oversampling, the accuracy of the model decreased to 0.973 (not a significant decrease, but...).\n",
    "\n",
    "Looking at the Confusion Matrix and Classification report;\n",
    "\n",
    "According to the first model, the prediction of the Non-fraud class (class=0) has decreased, but there is also an increase in the recall metric of class=1, which means that the rate of predicting class=1 of the model increased."
   ]
  },
  {
   "cell_type": "code",
   "execution_count": null,
   "id": "869a08ce",
   "metadata": {},
   "outputs": [],
   "source": []
  },
  {
   "cell_type": "markdown",
   "id": "2b96d684",
   "metadata": {},
   "source": [
    "### Under-sampling"
   ]
  },
  {
   "cell_type": "markdown",
   "id": "81332f0d",
   "metadata": {},
   "source": [
    "Random undersampling involves randomly selecting examples from the majority class to delete from the training dataset.\n",
    "\n",
    "This has the effect of reducing the number of examples in the majority class in the transformed version of the training dataset. This process can be repeated until the desired class distribution is achieved, such as an equal number of examples for each class.\n",
    "\n",
    "This approach may be more suitable for those datasets where there is a class imbalance although a sufficient number of examples in the minority class, such a useful model can be fit."
   ]
  },
  {
   "cell_type": "markdown",
   "id": "3207b864",
   "metadata": {},
   "source": [
    "The random undersampling technique can be implemented using the ***RandomUnderSampler*** imbalanced-learn class."
   ]
  },
  {
   "cell_type": "markdown",
   "id": "18e67066",
   "metadata": {},
   "source": [
    "Let's check our training set before under-sampling:"
   ]
  },
  {
   "cell_type": "code",
   "execution_count": 50,
   "id": "65b1ce25",
   "metadata": {},
   "outputs": [
    {
     "data": {
      "text/plain": [
       "0    192627\n",
       "1       337\n",
       "Name: Class, dtype: int64"
      ]
     },
     "execution_count": 50,
     "metadata": {},
     "output_type": "execute_result"
    }
   ],
   "source": [
    "y_train.value_counts()"
   ]
  },
  {
   "cell_type": "markdown",
   "id": "cb5dd53f",
   "metadata": {},
   "source": [
    "Let's implement Random UnderSampling:"
   ]
  },
  {
   "cell_type": "code",
   "execution_count": 51,
   "id": "56c1d80d",
   "metadata": {},
   "outputs": [],
   "source": [
    "from imblearn.under_sampling import RandomUnderSampler"
   ]
  },
  {
   "cell_type": "code",
   "execution_count": 52,
   "id": "a427aee6",
   "metadata": {},
   "outputs": [],
   "source": [
    "random_under_sample = RandomUnderSampler()\n",
    "X_random_under, y_random_under = random_under_sample.fit_resample(X_train, y_train)"
   ]
  },
  {
   "cell_type": "markdown",
   "id": "b4b87913",
   "metadata": {},
   "source": [
    "Let's check our training set after under-sampling:"
   ]
  },
  {
   "cell_type": "code",
   "execution_count": 53,
   "id": "0de7dd82",
   "metadata": {},
   "outputs": [
    {
     "data": {
      "text/plain": [
       "0    337\n",
       "1    337\n",
       "Name: Class, dtype: int64"
      ]
     },
     "execution_count": 53,
     "metadata": {},
     "output_type": "execute_result"
    }
   ],
   "source": [
    "y_random_under.value_counts()"
   ]
  },
  {
   "cell_type": "code",
   "execution_count": 54,
   "id": "e888440e",
   "metadata": {},
   "outputs": [
    {
     "name": "stdout",
     "output_type": "stream",
     "text": [
      "Accuracy: 0.972%\n"
     ]
    }
   ],
   "source": [
    "LR_model.fit(X_random_under, y_random_under)\n",
    "y_pred_LR_under = LR_model.predict(X_test)\n",
    "\n",
    "accuracy_LR_under = accuracy_score(y_test, y_pred_LR_under)\n",
    "print(\"Accuracy: %.3f%%\" % (accuracy_LR_under))"
   ]
  },
  {
   "cell_type": "code",
   "execution_count": 55,
   "id": "eccba810",
   "metadata": {},
   "outputs": [
    {
     "data": {
      "text/plain": [
       "<AxesSubplot:>"
      ]
     },
     "execution_count": 55,
     "metadata": {},
     "output_type": "execute_result"
    },
    {
     "data": {
      "image/png": "[encoded data removed]",
      "text/plain": [
       "<Figure size 432x288 with 2 Axes>"
      ]
     },
     "metadata": {
      "needs_background": "light"
     },
     "output_type": "display_data"
    }
   ],
   "source": [
    "confusionMatrix_LR_under = CM(y_test, LR_model.predict(X_test))\n",
    "sns.heatmap(confusionMatrix_LR_under, annot=True, fmt=\".0f\")"
   ]
  },
  {
   "cell_type": "code",
   "execution_count": 56,
   "id": "41d78e2e",
   "metadata": {},
   "outputs": [
    {
     "name": "stdout",
     "output_type": "stream",
     "text": [
      "              precision    recall  f1-score   support\n",
      "\n",
      "           0       1.00      0.97      0.99     82563\n",
      "           1       0.05      0.89      0.10       136\n",
      "\n",
      "    accuracy                           0.97     82699\n",
      "   macro avg       0.53      0.93      0.54     82699\n",
      "weighted avg       1.00      0.97      0.98     82699\n",
      "\n"
     ]
    }
   ],
   "source": [
    "print(classification_report(y_test, LR_model.predict(X_test)))"
   ]
  },
  {
   "cell_type": "code",
   "execution_count": null,
   "id": "a9fc6cc4",
   "metadata": {},
   "outputs": [],
   "source": []
  },
  {
   "cell_type": "markdown",
   "id": "9ba6eabd",
   "metadata": {},
   "source": [
    "### Combining Random Oversampling and Undersampling"
   ]
  },
  {
   "cell_type": "code",
   "execution_count": 67,
   "id": "e96f487d",
   "metadata": {},
   "outputs": [],
   "source": [
    "# define oversampling strategy\n",
    "over = RandomOverSampler()\n",
    "# fit and apply the transform\n",
    "X_random_COM, y_random_COM = over.fit_resample(X_train, y_train)\n",
    "# define undersampling strategy\n",
    "under = RandomUnderSampler()\n",
    "# fit and apply the transform\n",
    "X_random_COM, y_random_COM = under.fit_resample(X_train, y_train)"
   ]
  },
  {
   "cell_type": "code",
   "execution_count": 68,
   "id": "4dd7f890",
   "metadata": {},
   "outputs": [],
   "source": [
    "# define pipeline\n",
    "from imblearn.pipeline import Pipeline\n",
    "\n",
    "steps = [('o', over), ('u', under), ('m', LogisticRegression())]\n",
    "pipeline = Pipeline(steps=steps)"
   ]
  },
  {
   "cell_type": "code",
   "execution_count": 69,
   "id": "0f72c77f",
   "metadata": {},
   "outputs": [
    {
     "name": "stdout",
     "output_type": "stream",
     "text": [
      "Accuracy: 0.982%\n"
     ]
    }
   ],
   "source": [
    "pipeline.fit(X_random_COM, y_random_COM)\n",
    "y_pred_LR_COM = LR_model.predict(X_test)\n",
    "\n",
    "accuracy_LR_COM = accuracy_score(y_test, y_pred_LR_COM)\n",
    "print(\"Accuracy: %.3f%%\" % (accuracy_LR_COM))"
   ]
  },
  {
   "cell_type": "code",
   "execution_count": 70,
   "id": "277a976b",
   "metadata": {
    "scrolled": true
   },
   "outputs": [
    {
     "name": "stdout",
     "output_type": "stream",
     "text": [
      "              precision    recall  f1-score   support\n",
      "\n",
      "           0       1.00      0.97      0.98     82563\n",
      "           1       0.05      0.90      0.09       136\n",
      "\n",
      "    accuracy                           0.97     82699\n",
      "   macro avg       0.52      0.93      0.54     82699\n",
      "weighted avg       1.00      0.97      0.98     82699\n",
      "\n"
     ]
    }
   ],
   "source": [
    "print(classification_report(y_test, pipeline.predict(X_test)))"
   ]
  },
  {
   "cell_type": "markdown",
   "id": "332f4884",
   "metadata": {},
   "source": [
    "### Cross Validation"
   ]
  },
  {
   "cell_type": "code",
   "execution_count": 71,
   "id": "ff102a61",
   "metadata": {
    "scrolled": true
   },
   "outputs": [
    {
     "name": "stdout",
     "output_type": "stream",
     "text": [
      "Score: 0.905\n"
     ]
    }
   ],
   "source": [
    "from sklearn.model_selection import cross_val_score\n",
    "from sklearn.model_selection import RepeatedStratifiedKFold\n",
    "\n",
    "# evaluate pipeline\n",
    "cv = RepeatedStratifiedKFold(n_splits=10, n_repeats=3, random_state=1)\n",
    "scores = cross_val_score(pipeline, X, y, scoring=\"recall\", cv=cv, n_jobs=-1)\n",
    "score = np.mean(scores)\n",
    "print('Score: %.3f' % score)"
   ]
  },
  {
   "cell_type": "markdown",
   "id": "56a0bfce",
   "metadata": {},
   "source": [
    "Similarly, we can apply other classification techniques (Random Forest, XGB etc.)"
   ]
  },
  {
   "cell_type": "markdown",
   "id": "90680426",
   "metadata": {},
   "source": [
    "Thanks for reading 😀"
   ]
  },
  {
   "cell_type": "markdown",
   "id": "bf94e7df",
   "metadata": {},
   "source": [
    "References:\n",
    "\n",
    "https://machinelearningmastery.com/tactics-to-combat-imbalanced-classes-in-your-machine-learning-dataset/\n",
    "\n",
    "https://machinelearningmastery.com/random-oversampling-and-undersampling-for-imbalanced-classification/"
   ]
  }
 ],
 "metadata": {
  "kernelspec": {
   "display_name": "Python 3 (ipykernel)",
   "language": "python",
   "name": "python3"
  },
  "language_info": {
   "codemirror_mode": {
    "name": "ipython",
    "version": 3
   },
   "file_extension": ".py",
   "mimetype": "text/x-python",
   "name": "python",
   "nbconvert_exporter": "python",
   "pygments_lexer": "ipython3",
   "version": "3.9.12"
  }
 },
 "nbformat": 4,
 "nbformat_minor": 5
}
